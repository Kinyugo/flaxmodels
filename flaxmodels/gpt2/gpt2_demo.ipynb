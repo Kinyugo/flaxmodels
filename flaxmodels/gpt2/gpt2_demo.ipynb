{
  "nbformat": 4,
  "nbformat_minor": 0,
  "metadata": {
    "accelerator": "GPU",
    "colab": {
      "name": "gpt2_demo.ipynb",
      "provenance": [],
      "collapsed_sections": [],
      "authorship_tag": "ABX9TyOiLO3F+2gPaNt+AfS5QlLL",
      "include_colab_link": true
    },
    "kernelspec": {
      "display_name": "Python 3",
      "name": "python3"
    },
    "language_info": {
      "name": "python"
    }
  },
  "cells": [
    {
      "cell_type": "markdown",
      "metadata": {
        "id": "view-in-github",
        "colab_type": "text"
      },
      "source": [
        "<a href=\"https://colab.research.google.com/github/matthias-wright/flaxmodels/blob/main/flaxmodels/gpt2/gpt2_demo.ipynb\" target=\"_parent\"><img src=\"https://colab.research.google.com/assets/colab-badge.svg\" alt=\"Open In Colab\"/></a>"
      ]
    },
    {
      "cell_type": "code",
      "metadata": {
        "colab": {
          "base_uri": "https://localhost:8080/"
        },
        "id": "6_i3EQa2yOzA",
        "outputId": "2327da03-6663-49a9-a802-afe719ae0477"
      },
      "source": [
        "!pip install --upgrade pip\n",
        "!pip install --upgrade jax jaxlib==0.1.66+cuda111 -f https://storage.googleapis.com/jax-releases/jax_releases.html\n",
        "!pip install --upgrade git+https://github.com/matthias-wright/flaxmodels.git"
      ],
      "execution_count": 1,
      "outputs": [
        {
          "output_type": "stream",
          "text": [
            "Collecting pip\n",
            "\u001b[?25l  Downloading https://files.pythonhosted.org/packages/cd/6f/43037c7bcc8bd8ba7c9074256b1a11596daa15555808ec748048c1507f08/pip-21.1.1-py3-none-any.whl (1.5MB)\n",
            "\r\u001b[K     |▏                               | 10kB 24.7MB/s eta 0:00:01\r\u001b[K     |▍                               | 20kB 32.3MB/s eta 0:00:01\r\u001b[K     |▋                               | 30kB 27.1MB/s eta 0:00:01\r\u001b[K     |▉                               | 40kB 19.4MB/s eta 0:00:01\r\u001b[K     |█                               | 51kB 10.1MB/s eta 0:00:01\r\u001b[K     |█▎                              | 61kB 9.2MB/s eta 0:00:01\r\u001b[K     |█▌                              | 71kB 10.3MB/s eta 0:00:01\r\u001b[K     |█▊                              | 81kB 11.3MB/s eta 0:00:01\r\u001b[K     |██                              | 92kB 12.1MB/s eta 0:00:01\r\u001b[K     |██▏                             | 102kB 8.4MB/s eta 0:00:01\r\u001b[K     |██▎                             | 112kB 8.4MB/s eta 0:00:01\r\u001b[K     |██▌                             | 122kB 8.4MB/s eta 0:00:01\r\u001b[K     |██▊                             | 133kB 8.4MB/s eta 0:00:01\r\u001b[K     |███                             | 143kB 8.4MB/s eta 0:00:01\r\u001b[K     |███▏                            | 153kB 8.4MB/s eta 0:00:01\r\u001b[K     |███▍                            | 163kB 8.4MB/s eta 0:00:01\r\u001b[K     |███▋                            | 174kB 8.4MB/s eta 0:00:01\r\u001b[K     |███▉                            | 184kB 8.4MB/s eta 0:00:01\r\u001b[K     |████                            | 194kB 8.4MB/s eta 0:00:01\r\u001b[K     |████▎                           | 204kB 8.4MB/s eta 0:00:01\r\u001b[K     |████▌                           | 215kB 8.4MB/s eta 0:00:01\r\u001b[K     |████▋                           | 225kB 8.4MB/s eta 0:00:01\r\u001b[K     |████▉                           | 235kB 8.4MB/s eta 0:00:01\r\u001b[K     |█████                           | 245kB 8.4MB/s eta 0:00:01\r\u001b[K     |█████▎                          | 256kB 8.4MB/s eta 0:00:01\r\u001b[K     |█████▌                          | 266kB 8.4MB/s eta 0:00:01\r\u001b[K     |█████▊                          | 276kB 8.4MB/s eta 0:00:01\r\u001b[K     |██████                          | 286kB 8.4MB/s eta 0:00:01\r\u001b[K     |██████▏                         | 296kB 8.4MB/s eta 0:00:01\r\u001b[K     |██████▍                         | 307kB 8.4MB/s eta 0:00:01\r\u001b[K     |██████▋                         | 317kB 8.4MB/s eta 0:00:01\r\u001b[K     |██████▊                         | 327kB 8.4MB/s eta 0:00:01\r\u001b[K     |███████                         | 337kB 8.4MB/s eta 0:00:01\r\u001b[K     |███████▏                        | 348kB 8.4MB/s eta 0:00:01\r\u001b[K     |███████▍                        | 358kB 8.4MB/s eta 0:00:01\r\u001b[K     |███████▋                        | 368kB 8.4MB/s eta 0:00:01\r\u001b[K     |███████▉                        | 378kB 8.4MB/s eta 0:00:01\r\u001b[K     |████████                        | 389kB 8.4MB/s eta 0:00:01\r\u001b[K     |████████▎                       | 399kB 8.4MB/s eta 0:00:01\r\u001b[K     |████████▌                       | 409kB 8.4MB/s eta 0:00:01\r\u001b[K     |████████▊                       | 419kB 8.4MB/s eta 0:00:01\r\u001b[K     |█████████                       | 430kB 8.4MB/s eta 0:00:01\r\u001b[K     |█████████                       | 440kB 8.4MB/s eta 0:00:01\r\u001b[K     |█████████▎                      | 450kB 8.4MB/s eta 0:00:01\r\u001b[K     |█████████▌                      | 460kB 8.4MB/s eta 0:00:01\r\u001b[K     |█████████▊                      | 471kB 8.4MB/s eta 0:00:01\r\u001b[K     |██████████                      | 481kB 8.4MB/s eta 0:00:01\r\u001b[K     |██████████▏                     | 491kB 8.4MB/s eta 0:00:01\r\u001b[K     |██████████▍                     | 501kB 8.4MB/s eta 0:00:01\r\u001b[K     |██████████▋                     | 512kB 8.4MB/s eta 0:00:01\r\u001b[K     |██████████▉                     | 522kB 8.4MB/s eta 0:00:01\r\u001b[K     |███████████                     | 532kB 8.4MB/s eta 0:00:01\r\u001b[K     |███████████▏                    | 542kB 8.4MB/s eta 0:00:01\r\u001b[K     |███████████▍                    | 552kB 8.4MB/s eta 0:00:01\r\u001b[K     |███████████▋                    | 563kB 8.4MB/s eta 0:00:01\r\u001b[K     |███████████▉                    | 573kB 8.4MB/s eta 0:00:01\r\u001b[K     |████████████                    | 583kB 8.4MB/s eta 0:00:01\r\u001b[K     |████████████▎                   | 593kB 8.4MB/s eta 0:00:01\r\u001b[K     |████████████▌                   | 604kB 8.4MB/s eta 0:00:01\r\u001b[K     |████████████▊                   | 614kB 8.4MB/s eta 0:00:01\r\u001b[K     |█████████████                   | 624kB 8.4MB/s eta 0:00:01\r\u001b[K     |█████████████▏                  | 634kB 8.4MB/s eta 0:00:01\r\u001b[K     |█████████████▍                  | 645kB 8.4MB/s eta 0:00:01\r\u001b[K     |█████████████▌                  | 655kB 8.4MB/s eta 0:00:01\r\u001b[K     |█████████████▊                  | 665kB 8.4MB/s eta 0:00:01\r\u001b[K     |██████████████                  | 675kB 8.4MB/s eta 0:00:01\r\u001b[K     |██████████████▏                 | 686kB 8.4MB/s eta 0:00:01\r\u001b[K     |██████████████▍                 | 696kB 8.4MB/s eta 0:00:01\r\u001b[K     |██████████████▋                 | 706kB 8.4MB/s eta 0:00:01\r\u001b[K     |██████████████▉                 | 716kB 8.4MB/s eta 0:00:01\r\u001b[K     |███████████████                 | 727kB 8.4MB/s eta 0:00:01\r\u001b[K     |███████████████▎                | 737kB 8.4MB/s eta 0:00:01\r\u001b[K     |███████████████▌                | 747kB 8.4MB/s eta 0:00:01\r\u001b[K     |███████████████▊                | 757kB 8.4MB/s eta 0:00:01\r\u001b[K     |███████████████▉                | 768kB 8.4MB/s eta 0:00:01\r\u001b[K     |████████████████                | 778kB 8.4MB/s eta 0:00:01\r\u001b[K     |████████████████▎               | 788kB 8.4MB/s eta 0:00:01\r\u001b[K     |████████████████▌               | 798kB 8.4MB/s eta 0:00:01\r\u001b[K     |████████████████▊               | 808kB 8.4MB/s eta 0:00:01\r\u001b[K     |█████████████████               | 819kB 8.4MB/s eta 0:00:01\r\u001b[K     |█████████████████▏              | 829kB 8.4MB/s eta 0:00:01\r\u001b[K     |█████████████████▍              | 839kB 8.4MB/s eta 0:00:01\r\u001b[K     |█████████████████▋              | 849kB 8.4MB/s eta 0:00:01\r\u001b[K     |█████████████████▉              | 860kB 8.4MB/s eta 0:00:01\r\u001b[K     |██████████████████              | 870kB 8.4MB/s eta 0:00:01\r\u001b[K     |██████████████████▏             | 880kB 8.4MB/s eta 0:00:01\r\u001b[K     |██████████████████▍             | 890kB 8.4MB/s eta 0:00:01\r\u001b[K     |██████████████████▋             | 901kB 8.4MB/s eta 0:00:01\r\u001b[K     |██████████████████▉             | 911kB 8.4MB/s eta 0:00:01\r\u001b[K     |███████████████████             | 921kB 8.4MB/s eta 0:00:01\r\u001b[K     |███████████████████▎            | 931kB 8.4MB/s eta 0:00:01\r\u001b[K     |███████████████████▌            | 942kB 8.4MB/s eta 0:00:01\r\u001b[K     |███████████████████▊            | 952kB 8.4MB/s eta 0:00:01\r\u001b[K     |████████████████████            | 962kB 8.4MB/s eta 0:00:01\r\u001b[K     |████████████████████▏           | 972kB 8.4MB/s eta 0:00:01\r\u001b[K     |████████████████████▎           | 983kB 8.4MB/s eta 0:00:01\r\u001b[K     |████████████████████▌           | 993kB 8.4MB/s eta 0:00:01\r\u001b[K     |████████████████████▊           | 1.0MB 8.4MB/s eta 0:00:01\r\u001b[K     |█████████████████████           | 1.0MB 8.4MB/s eta 0:00:01\r\u001b[K     |█████████████████████▏          | 1.0MB 8.4MB/s eta 0:00:01\r\u001b[K     |█████████████████████▍          | 1.0MB 8.4MB/s eta 0:00:01\r\u001b[K     |█████████████████████▋          | 1.0MB 8.4MB/s eta 0:00:01\r\u001b[K     |█████████████████████▉          | 1.1MB 8.4MB/s eta 0:00:01\r\u001b[K     |██████████████████████          | 1.1MB 8.4MB/s eta 0:00:01\r\u001b[K     |██████████████████████▎         | 1.1MB 8.4MB/s eta 0:00:01\r\u001b[K     |██████████████████████▍         | 1.1MB 8.4MB/s eta 0:00:01\r\u001b[K     |██████████████████████▋         | 1.1MB 8.4MB/s eta 0:00:01\r\u001b[K     |██████████████████████▉         | 1.1MB 8.4MB/s eta 0:00:01\r\u001b[K     |███████████████████████         | 1.1MB 8.4MB/s eta 0:00:01\r\u001b[K     |███████████████████████▎        | 1.1MB 8.4MB/s eta 0:00:01\r\u001b[K     |███████████████████████▌        | 1.1MB 8.4MB/s eta 0:00:01\r\u001b[K     |███████████████████████▊        | 1.1MB 8.4MB/s eta 0:00:01\r\u001b[K     |████████████████████████        | 1.2MB 8.4MB/s eta 0:00:01\r\u001b[K     |████████████████████████▏       | 1.2MB 8.4MB/s eta 0:00:01\r\u001b[K     |████████████████████████▍       | 1.2MB 8.4MB/s eta 0:00:01\r\u001b[K     |████████████████████████▋       | 1.2MB 8.4MB/s eta 0:00:01\r\u001b[K     |████████████████████████▊       | 1.2MB 8.4MB/s eta 0:00:01\r\u001b[K     |█████████████████████████       | 1.2MB 8.4MB/s eta 0:00:01\r\u001b[K     |█████████████████████████▏      | 1.2MB 8.4MB/s eta 0:00:01\r\u001b[K     |█████████████████████████▍      | 1.2MB 8.4MB/s eta 0:00:01\r\u001b[K     |█████████████████████████▋      | 1.2MB 8.4MB/s eta 0:00:01\r\u001b[K     |█████████████████████████▉      | 1.2MB 8.4MB/s eta 0:00:01\r\u001b[K     |██████████████████████████      | 1.3MB 8.4MB/s eta 0:00:01\r\u001b[K     |██████████████████████████▎     | 1.3MB 8.4MB/s eta 0:00:01\r\u001b[K     |██████████████████████████▌     | 1.3MB 8.4MB/s eta 0:00:01\r\u001b[K     |██████████████████████████▊     | 1.3MB 8.4MB/s eta 0:00:01\r\u001b[K     |███████████████████████████     | 1.3MB 8.4MB/s eta 0:00:01\r\u001b[K     |███████████████████████████     | 1.3MB 8.4MB/s eta 0:00:01\r\u001b[K     |███████████████████████████▎    | 1.3MB 8.4MB/s eta 0:00:01\r\u001b[K     |███████████████████████████▌    | 1.3MB 8.4MB/s eta 0:00:01\r\u001b[K     |███████████████████████████▊    | 1.3MB 8.4MB/s eta 0:00:01\r\u001b[K     |████████████████████████████    | 1.4MB 8.4MB/s eta 0:00:01\r\u001b[K     |████████████████████████████▏   | 1.4MB 8.4MB/s eta 0:00:01\r\u001b[K     |████████████████████████████▍   | 1.4MB 8.4MB/s eta 0:00:01\r\u001b[K     |████████████████████████████▋   | 1.4MB 8.4MB/s eta 0:00:01\r\u001b[K     |████████████████████████████▉   | 1.4MB 8.4MB/s eta 0:00:01\r\u001b[K     |█████████████████████████████   | 1.4MB 8.4MB/s eta 0:00:01\r\u001b[K     |█████████████████████████████▏  | 1.4MB 8.4MB/s eta 0:00:01\r\u001b[K     |█████████████████████████████▍  | 1.4MB 8.4MB/s eta 0:00:01\r\u001b[K     |█████████████████████████████▋  | 1.4MB 8.4MB/s eta 0:00:01\r\u001b[K     |█████████████████████████████▉  | 1.4MB 8.4MB/s eta 0:00:01\r\u001b[K     |██████████████████████████████  | 1.5MB 8.4MB/s eta 0:00:01\r\u001b[K     |██████████████████████████████▎ | 1.5MB 8.4MB/s eta 0:00:01\r\u001b[K     |██████████████████████████████▌ | 1.5MB 8.4MB/s eta 0:00:01\r\u001b[K     |██████████████████████████████▊ | 1.5MB 8.4MB/s eta 0:00:01\r\u001b[K     |███████████████████████████████ | 1.5MB 8.4MB/s eta 0:00:01\r\u001b[K     |███████████████████████████████▏| 1.5MB 8.4MB/s eta 0:00:01\r\u001b[K     |███████████████████████████████▍| 1.5MB 8.4MB/s eta 0:00:01\r\u001b[K     |███████████████████████████████▌| 1.5MB 8.4MB/s eta 0:00:01\r\u001b[K     |███████████████████████████████▊| 1.5MB 8.4MB/s eta 0:00:01\r\u001b[K     |████████████████████████████████| 1.5MB 8.4MB/s eta 0:00:01\r\u001b[K     |████████████████████████████████| 1.6MB 8.4MB/s \n",
            "\u001b[?25hInstalling collected packages: pip\n",
            "  Found existing installation: pip 19.3.1\n",
            "    Uninstalling pip-19.3.1:\n",
            "      Successfully uninstalled pip-19.3.1\n",
            "Successfully installed pip-21.1.1\n",
            "Looking in links: https://storage.googleapis.com/jax-releases/jax_releases.html\n",
            "Requirement already satisfied: jax in /usr/local/lib/python3.7/dist-packages (0.2.13)\n",
            "Collecting jaxlib==0.1.66+cuda111\n",
            "  Downloading https://storage.googleapis.com/jax-releases/cuda111/jaxlib-0.1.66%2Bcuda111-cp37-none-manylinux2010_x86_64.whl (194.6 MB)\n",
            "\u001b[K     |████████████████████████████████| 194.6 MB 59 kB/s \n",
            "\u001b[?25hRequirement already satisfied: numpy>=1.16 in /usr/local/lib/python3.7/dist-packages (from jaxlib==0.1.66+cuda111) (1.19.5)\n",
            "Requirement already satisfied: flatbuffers in /usr/local/lib/python3.7/dist-packages (from jaxlib==0.1.66+cuda111) (1.12)\n",
            "Requirement already satisfied: absl-py in /usr/local/lib/python3.7/dist-packages (from jaxlib==0.1.66+cuda111) (0.12.0)\n",
            "Requirement already satisfied: scipy in /usr/local/lib/python3.7/dist-packages (from jaxlib==0.1.66+cuda111) (1.4.1)\n",
            "Requirement already satisfied: opt-einsum in /usr/local/lib/python3.7/dist-packages (from jax) (3.3.0)\n",
            "Requirement already satisfied: six in /usr/local/lib/python3.7/dist-packages (from absl-py->jaxlib==0.1.66+cuda111) (1.15.0)\n",
            "Installing collected packages: jaxlib\n",
            "  Attempting uninstall: jaxlib\n",
            "    Found existing installation: jaxlib 0.1.66+cuda110\n",
            "    Uninstalling jaxlib-0.1.66+cuda110:\n",
            "      Successfully uninstalled jaxlib-0.1.66+cuda110\n",
            "Successfully installed jaxlib-0.1.66+cuda111\n",
            "\u001b[33mWARNING: Running pip as root will break packages and permissions. You should install packages reliably by using venv: https://pip.pypa.io/warnings/venv\u001b[0m\n",
            "Collecting git+https://github.com/matthias-wright/flaxmodels.git\n",
            "  Cloning https://github.com/matthias-wright/flaxmodels.git to /tmp/pip-req-build-rj4tgqbt\n",
            "  Running command git clone -q https://github.com/matthias-wright/flaxmodels.git /tmp/pip-req-build-rj4tgqbt\n",
            "Requirement already satisfied: h5py==2.10.0 in /usr/local/lib/python3.7/dist-packages (from flaxmodels==0.1.0) (2.10.0)\n",
            "Requirement already satisfied: numpy==1.19.5 in /usr/local/lib/python3.7/dist-packages (from flaxmodels==0.1.0) (1.19.5)\n",
            "Requirement already satisfied: requests==2.23.0 in /usr/local/lib/python3.7/dist-packages (from flaxmodels==0.1.0) (2.23.0)\n",
            "Requirement already satisfied: packaging==20.9 in /usr/local/lib/python3.7/dist-packages (from flaxmodels==0.1.0) (20.9)\n",
            "Collecting dataclasses==0.6\n",
            "  Downloading dataclasses-0.6-py3-none-any.whl (14 kB)\n",
            "Requirement already satisfied: filelock==3.0.12 in /usr/local/lib/python3.7/dist-packages (from flaxmodels==0.1.0) (3.0.12)\n",
            "Requirement already satisfied: jax in /usr/local/lib/python3.7/dist-packages (from flaxmodels==0.1.0) (0.2.13)\n",
            "Requirement already satisfied: jaxlib in /usr/local/lib/python3.7/dist-packages (from flaxmodels==0.1.0) (0.1.66+cuda111)\n",
            "Collecting flax\n",
            "  Downloading flax-0.3.4-py3-none-any.whl (183 kB)\n",
            "\u001b[K     |████████████████████████████████| 183 kB 9.7 MB/s \n",
            "\u001b[?25hRequirement already satisfied: Pillow==7.1.2 in /usr/local/lib/python3.7/dist-packages (from flaxmodels==0.1.0) (7.1.2)\n",
            "Collecting regex==2021.4.4\n",
            "  Downloading regex-2021.4.4-cp37-cp37m-manylinux2014_x86_64.whl (720 kB)\n",
            "\u001b[K     |████████████████████████████████| 720 kB 27.8 MB/s \n",
            "\u001b[?25hCollecting tqdm==4.60.0\n",
            "  Downloading tqdm-4.60.0-py2.py3-none-any.whl (75 kB)\n",
            "\u001b[K     |████████████████████████████████| 75 kB 5.0 MB/s \n",
            "\u001b[?25hRequirement already satisfied: six in /usr/local/lib/python3.7/dist-packages (from h5py==2.10.0->flaxmodels==0.1.0) (1.15.0)\n",
            "Requirement already satisfied: pyparsing>=2.0.2 in /usr/local/lib/python3.7/dist-packages (from packaging==20.9->flaxmodels==0.1.0) (2.4.7)\n",
            "Requirement already satisfied: chardet<4,>=3.0.2 in /usr/local/lib/python3.7/dist-packages (from requests==2.23.0->flaxmodels==0.1.0) (3.0.4)\n",
            "Requirement already satisfied: idna<3,>=2.5 in /usr/local/lib/python3.7/dist-packages (from requests==2.23.0->flaxmodels==0.1.0) (2.10)\n",
            "Requirement already satisfied: urllib3!=1.25.0,!=1.25.1,<1.26,>=1.21.1 in /usr/local/lib/python3.7/dist-packages (from requests==2.23.0->flaxmodels==0.1.0) (1.24.3)\n",
            "Requirement already satisfied: certifi>=2017.4.17 in /usr/local/lib/python3.7/dist-packages (from requests==2.23.0->flaxmodels==0.1.0) (2020.12.5)\n",
            "Collecting optax\n",
            "  Downloading optax-0.0.6-py3-none-any.whl (96 kB)\n",
            "\u001b[K     |████████████████████████████████| 96 kB 6.1 MB/s \n",
            "\u001b[?25hRequirement already satisfied: msgpack in /usr/local/lib/python3.7/dist-packages (from flax->flaxmodels==0.1.0) (1.0.2)\n",
            "Requirement already satisfied: matplotlib in /usr/local/lib/python3.7/dist-packages (from flax->flaxmodels==0.1.0) (3.2.2)\n",
            "Requirement already satisfied: opt-einsum in /usr/local/lib/python3.7/dist-packages (from jax->flaxmodels==0.1.0) (3.3.0)\n",
            "Requirement already satisfied: absl-py in /usr/local/lib/python3.7/dist-packages (from jax->flaxmodels==0.1.0) (0.12.0)\n",
            "Requirement already satisfied: flatbuffers in /usr/local/lib/python3.7/dist-packages (from jaxlib->flaxmodels==0.1.0) (1.12)\n",
            "Requirement already satisfied: scipy in /usr/local/lib/python3.7/dist-packages (from jaxlib->flaxmodels==0.1.0) (1.4.1)\n",
            "Requirement already satisfied: cycler>=0.10 in /usr/local/lib/python3.7/dist-packages (from matplotlib->flax->flaxmodels==0.1.0) (0.10.0)\n",
            "Requirement already satisfied: python-dateutil>=2.1 in /usr/local/lib/python3.7/dist-packages (from matplotlib->flax->flaxmodels==0.1.0) (2.8.1)\n",
            "Requirement already satisfied: kiwisolver>=1.0.1 in /usr/local/lib/python3.7/dist-packages (from matplotlib->flax->flaxmodels==0.1.0) (1.3.1)\n",
            "Collecting chex>=0.0.4\n",
            "  Downloading chex-0.0.7-py3-none-any.whl (52 kB)\n",
            "\u001b[K     |████████████████████████████████| 52 kB 1.5 MB/s \n",
            "\u001b[?25hRequirement already satisfied: toolz>=0.9.0 in /usr/local/lib/python3.7/dist-packages (from chex>=0.0.4->optax->flax->flaxmodels==0.1.0) (0.11.1)\n",
            "Requirement already satisfied: dm-tree>=0.1.5 in /usr/local/lib/python3.7/dist-packages (from chex>=0.0.4->optax->flax->flaxmodels==0.1.0) (0.1.6)\n",
            "Building wheels for collected packages: flaxmodels\n",
            "  Building wheel for flaxmodels (setup.py) ... \u001b[?25l\u001b[?25hdone\n",
            "  Created wheel for flaxmodels: filename=flaxmodels-0.1.0-py3-none-any.whl size=95379 sha256=df743cc8e2fd7e4c891e7da2bdfaf6dad62ecf51a0d810c3847ebb3e9b035d7b\n",
            "  Stored in directory: /tmp/pip-ephem-wheel-cache-ddi9ievs/wheels/13/5e/c0/a0c35cd00aa72decae21fda1342e486558b9509e572d0b2a39\n",
            "Successfully built flaxmodels\n",
            "Installing collected packages: chex, optax, tqdm, regex, flax, dataclasses, flaxmodels\n",
            "  Attempting uninstall: tqdm\n",
            "    Found existing installation: tqdm 4.41.1\n",
            "    Uninstalling tqdm-4.41.1:\n",
            "      Successfully uninstalled tqdm-4.41.1\n",
            "  Attempting uninstall: regex\n",
            "    Found existing installation: regex 2019.12.20\n",
            "    Uninstalling regex-2019.12.20:\n",
            "      Successfully uninstalled regex-2019.12.20\n",
            "Successfully installed chex-0.0.7 dataclasses-0.6 flax-0.3.4 flaxmodels-0.1.0 optax-0.0.6 regex-2021.4.4 tqdm-4.60.0\n",
            "\u001b[33mWARNING: Running pip as root will break packages and permissions. You should install packages reliably by using venv: https://pip.pypa.io/warnings/venv\u001b[0m\n"
          ],
          "name": "stdout"
        }
      ]
    },
    {
      "cell_type": "markdown",
      "metadata": {
        "id": "qr2BfYc9YVHx"
      },
      "source": [
        "# Generate text"
      ]
    },
    {
      "cell_type": "markdown",
      "metadata": {
        "id": "RHa6ySp-ywef"
      },
      "source": [
        "This is very simple greedy text generation. There are more sophisticated [methods](https://huggingface.co/blog/how-to-generate) out there."
      ]
    },
    {
      "cell_type": "code",
      "metadata": {
        "colab": {
          "base_uri": "https://localhost:8080/"
        },
        "id": "Y-nDnbE-yvWY",
        "outputId": "fb687055-9a3a-4410-eab6-a425a8e4c04c"
      },
      "source": [
        "import jax\n",
        "import jax.numpy as jnp\n",
        "import flaxmodels as fm\n",
        "\n",
        "key = jax.random.PRNGKey(0)\n",
        "\n",
        "# Initialize tokenizer\n",
        "tokenizer = fm.gpt2.get_tokenizer()\n",
        "\n",
        "# Encode start sequence\n",
        "generated = tokenizer.encode('The Manhattan bridge')\n",
        "\n",
        "context = jnp.array([generated])\n",
        "past = None\n",
        "\n",
        "# Initialize model\n",
        "# Models to choose from ['gpt2', 'gpt2-medium', 'gpt2-large', 'gpt2-xl']\n",
        "model = fm.gpt2.GPT2LMHeadModel(pretrained='gpt2')\n",
        "params = model.init(key, input_ids=context, past_key_values=past)\n",
        "\n",
        "for i in range(20):\n",
        "    # Predict next token in sequence\n",
        "    output = model.apply(params, input_ids=context, past_key_values=past, use_cache=True)\n",
        "    token = jnp.argmax(output['logits'][..., -1, :])\n",
        "    #context = jnp.expand_dims(token, axis=(0, 1))\n",
        "    context = jnp.expand_dims(token, axis=0)\n",
        "    # Add token to sequence\n",
        "    generated += [token]\n",
        "    # Update past keys and values\n",
        "    past = output['past_key_values']\n",
        "\n",
        "# Decode sequence of tokens\n",
        "sequence = tokenizer.decode(generated)\n",
        "\n",
        "print()\n",
        "print(sequence)"
      ],
      "execution_count": 2,
      "outputs": [
        {
          "output_type": "stream",
          "text": [
            "Downloading: \"https://www.dropbox.com/s/7f5n1gf348sy1mt/merges.txt\" to /tmp/flaxmodels/merges.txt\n"
          ],
          "name": "stdout"
        },
        {
          "output_type": "stream",
          "text": [
            "100%|██████████| 456k/456k [00:00<00:00, 14.9MiB/s]\n"
          ],
          "name": "stderr"
        },
        {
          "output_type": "stream",
          "text": [
            "Downloading: \"https://www.dropbox.com/s/s93xkhgcac5nbmn/vocab.json\" to /tmp/flaxmodels/vocab.json\n"
          ],
          "name": "stdout"
        },
        {
          "output_type": "stream",
          "text": [
            "100%|██████████| 1.04M/1.04M [00:00<00:00, 1.42MiB/s]\n"
          ],
          "name": "stderr"
        },
        {
          "output_type": "stream",
          "text": [
            "Downloading: \"https://www.dropbox.com/s/0wdgj0gazwt9nm7/gpt2.h5\" to /tmp/flaxmodels/gpt2.h5\n"
          ],
          "name": "stdout"
        },
        {
          "output_type": "stream",
          "text": [
            "100%|██████████| 703M/703M [00:30<00:00, 22.9MiB/s]\n"
          ],
          "name": "stderr"
        },
        {
          "output_type": "stream",
          "text": [
            "Downloading: \"https://www.dropbox.com/s/s5xl32dgwc8322p/gpt2.json\" to /tmp/flaxmodels/gpt2.json\n"
          ],
          "name": "stdout"
        },
        {
          "output_type": "stream",
          "text": [
            "100%|██████████| 715/715 [00:00<00:00, 143kiB/s]\n"
          ],
          "name": "stderr"
        },
        {
          "output_type": "stream",
          "text": [
            "\n",
            "The Manhattan bridge is a major artery for the city's subway system, and the bridge is one of the busiest in\n"
          ],
          "name": "stdout"
        }
      ]
    },
    {
      "cell_type": "markdown",
      "metadata": {
        "id": "kKnwDOU2YhSN"
      },
      "source": [
        "# Get language model head output from text input"
      ]
    },
    {
      "cell_type": "code",
      "metadata": {
        "id": "zW-IBk_FYm9a"
      },
      "source": [
        "import jax\n",
        "import jax.numpy as jnp\n",
        "import flaxmodels as fm\n",
        "\n",
        "key = jax.random.PRNGKey(0)\n",
        "\n",
        "# Initialize tokenizer\n",
        "tokenizer = fm.gpt2.get_tokenizer()\n",
        "\n",
        "# Encode start sequence\n",
        "input_ids = tokenizer.encode('The Manhattan bridge')\n",
        "input_ids = jnp.array([input_ids])\n",
        "\n",
        "# Initialize model\n",
        "model = fm.gpt2.GPT2LMHeadModel(pretrained='gpt2')\n",
        "params = model.init(key, input_ids=input_ids)\n",
        "\n",
        "# Compute output\n",
        "output = model.apply(params, input_ids=input_ids, use_cache=True)\n",
        "# output: {'last_hidden_state': ..., 'past_key_values': ..., 'loss': ..., 'logits': ...}"
      ],
      "execution_count": 3,
      "outputs": []
    },
    {
      "cell_type": "markdown",
      "metadata": {
        "id": "Ui2DneCuYrOA"
      },
      "source": [
        "# Get language model head output from embeddings\n"
      ]
    },
    {
      "cell_type": "code",
      "metadata": {
        "id": "W8PrhOpZYuRZ"
      },
      "source": [
        "import jax\n",
        "import jax.numpy as jnp\n",
        "import flaxmodels as fm\n",
        "                                                                    \n",
        "key = jax.random.PRNGKey(0)\n",
        "\n",
        "# Dummy input                                        \n",
        "input_embds = jax.random.normal(key, shape=(2, 10, 768))\n",
        "\n",
        "# Initialize model\n",
        "model = fm.gpt2.GPT2LMHeadModel(pretrained='gpt2')\n",
        "params = model.init(key, input_embds=input_embds)\n",
        "# Compute output\n",
        "output = model.apply(params, input_embds=input_embds, use_cache=True)\n",
        "# output: {'last_hidden_state': ..., 'past_key_values': ..., 'loss': ..., 'logits': ...}"
      ],
      "execution_count": 4,
      "outputs": []
    },
    {
      "cell_type": "markdown",
      "metadata": {
        "id": "j0IUgj4yYwET"
      },
      "source": [
        "# Get model output from text input"
      ]
    },
    {
      "cell_type": "code",
      "metadata": {
        "id": "jSuAZ1YjYxmo"
      },
      "source": [
        "import jax\n",
        "import jax.numpy as jnp\n",
        "import flaxmodels as fm\n",
        "\n",
        "key = jax.random.PRNGKey(0)\n",
        "\n",
        "# Initialize tokenizer\n",
        "tokenizer = fm.gpt2.get_tokenizer()\n",
        "\n",
        "# Encode start sequence\n",
        "input_ids = tokenizer.encode('The Manhattan bridge')\n",
        "input_ids = jnp.array([input_ids])\n",
        "\n",
        "# Initialize model\n",
        "model = fm.gpt2.GPT2Model(pretrained='gpt2')\n",
        "params = model.init(key, input_ids=input_ids)\n",
        "\n",
        "# Compute output\n",
        "output = model.apply(params, input_ids=input_ids, use_cache=True)\n",
        "# output: {'last_hidden_state': ..., 'past_key_values': ...}"
      ],
      "execution_count": 5,
      "outputs": []
    },
    {
      "cell_type": "markdown",
      "metadata": {
        "id": "-jR2kX9GYzIn"
      },
      "source": [
        "# Get model output from embeddings"
      ]
    },
    {
      "cell_type": "code",
      "metadata": {
        "id": "Z1taV3BGY06n"
      },
      "source": [
        "import jax\n",
        "import jax.numpy as jnp\n",
        "import flaxmodels as fm\n",
        "                                                                    \n",
        "key = jax.random.PRNGKey(0)\n",
        "\n",
        "# Dummy input\n",
        "input_embds = jax.random.normal(key, shape=(2, 10, 768))\n",
        "                                                                                                      \n",
        "# Initialize model\n",
        "model = fm.gpt2.GPT2Model(pretrained='gpt2')\n",
        "params = model.init(key, input_embds=input_embds)\n",
        "\n",
        "# Compute output\n",
        "output = model.apply(params, input_embds=input_embds, use_cache=True)\n",
        "# output: {'last_hidden_state': ..., 'past_key_values': ...}"
      ],
      "execution_count": 6,
      "outputs": []
    }
  ]
}